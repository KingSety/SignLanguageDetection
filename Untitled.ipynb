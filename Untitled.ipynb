{
 "cells": [
  {
   "cell_type": "code",
   "execution_count": 20,
   "id": "8266e2d7",
   "metadata": {},
   "outputs": [],
   "source": [
    "import cv2 #opencv\n",
    "import uuid #label images\n",
    "import time #breaks between hand movement\n",
    "import os #filepaths"
   ]
  },
  {
   "cell_type": "code",
   "execution_count": 21,
   "id": "a661d837",
   "metadata": {},
   "outputs": [],
   "source": [
    "IMAGES_PATH = '/Users/setytekeu/RealTimeObjectDetection/Tensorflow/workspace/images/collectedimages'"
   ]
  },
  {
   "cell_type": "code",
   "execution_count": 22,
   "id": "aa1a1137",
   "metadata": {},
   "outputs": [],
   "source": [
    "labels = ['hello', 'thanks', 'yes', 'no', 'iloveyou']\n",
    "number_imgs = 15"
   ]
  },
  {
   "cell_type": "code",
   "execution_count": 23,
   "id": "0e8d6e76",
   "metadata": {},
   "outputs": [
    {
     "name": "stdout",
     "output_type": "stream",
     "text": [
      "Collecting images for hello\n"
     ]
    },
    {
     "name": "stderr",
     "output_type": "stream",
     "text": [
      "2025-06-06 19:07:45.918 python[95619:4647505] Warning: Window move completed without beginning\n"
     ]
    },
    {
     "name": "stdout",
     "output_type": "stream",
     "text": [
      "Collecting images for thanks\n",
      "Collecting images for yes\n",
      "Collecting images for no\n",
      "Collecting images for iloveyou\n"
     ]
    }
   ],
   "source": [
    "for label in labels:\n",
    "    !mkdir {'/Users/setytekeu/RealTimeObjectDetection/Tensorflow/workspace/images/collectedimages//'+label}  #Create directory for each label\n",
    "    cap = cv2.VideoCapture(0) #Starts webcam capture\n",
    "    print('Collecting images for {}'.format(label))\n",
    "    time.sleep(5) #Give user time to make position\n",
    "    for imgnun in range(number_imgs):\n",
    "        ret, frame = cap.read() #Set capture & frame\n",
    "        imgname = os.path.join(IMAGES_PATH, label, label+'.'+'{}.jpg'.format(str(uuid.uuid1()))) #String formatting\n",
    "        cv2.imwrite(imgname, frame)\n",
    "        cv2.imshow('frame', frame)\n",
    "        time.sleep(2)\n",
    "        \n",
    "        if cv2.waitKey(1) & 0xFF == ord('q'): #For any issues\n",
    "            break\n",
    "    cap.release()"
   ]
  },
  {
   "cell_type": "code",
   "execution_count": null,
   "id": "081ece2f",
   "metadata": {},
   "outputs": [],
   "source": []
  }
 ],
 "metadata": {
  "kernelspec": {
   "display_name": "Python 3 (ipykernel)",
   "language": "python",
   "name": "python3"
  },
  "language_info": {
   "codemirror_mode": {
    "name": "ipython",
    "version": 3
   },
   "file_extension": ".py",
   "mimetype": "text/x-python",
   "name": "python",
   "nbconvert_exporter": "python",
   "pygments_lexer": "ipython3",
   "version": "3.9.13"
  }
 },
 "nbformat": 4,
 "nbformat_minor": 5
}
